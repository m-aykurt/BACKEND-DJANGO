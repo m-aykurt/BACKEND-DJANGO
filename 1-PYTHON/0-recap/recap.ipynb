{
 "cells": [
  {
   "cell_type": "code",
   "execution_count": 2,
   "metadata": {},
   "outputs": [
    {
     "name": "stdout",
     "output_type": "stream",
     "text": [
      "merhaba\n"
     ]
    }
   ],
   "source": [
    "print(\"merhaba\")"
   ]
  },
  {
   "cell_type": "code",
   "execution_count": 8,
   "metadata": {},
   "outputs": [
    {
     "name": "stdout",
     "output_type": "stream",
     "text": [
      "['a', 'b', ' ', 'c']\n",
      "['a', 'b', ' ', 'c']\n",
      "['a', 'b', ' ', 'c', 'd']\n"
     ]
    }
   ],
   "source": [
    "a = \"ab c\"\n",
    "print(list(a))\n",
    "b = list(a)\n",
    "print(b)\n",
    "b.append(\"d\")\n",
    "print(b)"
   ]
  },
  {
   "cell_type": "code",
   "execution_count": 10,
   "metadata": {},
   "outputs": [
    {
     "data": {
      "text/plain": [
       "1"
      ]
     },
     "execution_count": 10,
     "metadata": {},
     "output_type": "execute_result"
    }
   ],
   "source": [
    "a = [\"ali\",2,[1,2],7]\n",
    "a[2][0]\n"
   ]
  }
 ],
 "metadata": {
  "interpreter": {
   "hash": "64792640ef3cb714fafa054e75038e440445500d860dfceeb758727f116bc2c9"
  },
  "kernelspec": {
   "display_name": "Python 3.9.6 64-bit",
   "name": "python3"
  },
  "language_info": {
   "codemirror_mode": {
    "name": "ipython",
    "version": 3
   },
   "file_extension": ".py",
   "mimetype": "text/x-python",
   "name": "python",
   "nbconvert_exporter": "python",
   "pygments_lexer": "ipython3",
   "version": "3.9.6"
  },
  "orig_nbformat": 4
 },
 "nbformat": 4,
 "nbformat_minor": 2
}
